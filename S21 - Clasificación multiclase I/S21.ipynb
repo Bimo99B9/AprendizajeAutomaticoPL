{
 "cells": [
  {
   "cell_type": "markdown",
   "metadata": {},
   "source": [
    "![Logo de AA1](logo_AA1_texto_small.png) \n",
    "# Sesión 21 - Clasificación multiclase I\n",
    "\n",
    "Hasta ahora siempre hemos estado trabajando con tareas de clasificación binaria, es decir, tareas en las que hay que elegir entre dos posibles clases.\n",
    "\n",
    "Sin embargo, será habitual que nos tengamos que enfrentar a conjuntos de datos donde los ejemplos puedan pertenecer a más de dos clases. A estos problemas los conocemos como clasificación multiclase o multiclasificación.\n",
    "\n",
    "En esta sesión práctica y en la siguiente veremos cómo trabajar con este tipo de problemas.\n",
    "\n",
    "Vamos a cargar un conjunto de datos de tres clases y dos atributos para poder visualizarlo:"
   ]
  },
  {
   "cell_type": "code",
   "execution_count": 1,
   "metadata": {},
   "outputs": [
    {
     "name": "stdout",
     "output_type": "stream",
     "text": [
      "\n",
      "#####################################################\n",
      "#### Cargamos conjunto de datos\n",
      "#####################################################\n"
     ]
    },
    {
     "data": {
      "image/png": "[encoded data removed]",
      "text/plain": [
       "<Figure size 432x288 with 1 Axes>"
      ]
     },
     "metadata": {
      "needs_background": "light"
     },
     "output_type": "display_data"
    }
   ],
   "source": [
    "import matplotlib.pyplot as plt\n",
    "import numpy as np\n",
    "import pandas as pd\n",
    "import seaborn as sns\n",
    "from sklearn import metrics\n",
    "from sklearn.ensemble import RandomForestClassifier\n",
    "from sklearn.inspection import DecisionBoundaryDisplay\n",
    "from sklearn.model_selection import train_test_split\n",
    "from sklearn.naive_bayes import GaussianNB\n",
    "from sklearn.neighbors import KNeighborsClassifier\n",
    "from sklearn.tree import DecisionTreeClassifier\n",
    "\n",
    "\n",
    "def pinta(X_clase0, X_clase1, X_clase2, texto):\n",
    "    fig, ax = plt.subplots()\n",
    "    ax.scatter(X_clase0[:, 0], X_clase0[:, 1], c='r', label='clase 0')\n",
    "    ax.scatter(X_clase1[:, 0], X_clase1[:, 1], c='y', label='clase 1')\n",
    "    ax.scatter(X_clase2[:, 0], X_clase2[:, 1], c='b', label='clase 2')\n",
    "    ax.set_xlabel('x1')\n",
    "    ax.set_title(texto)\n",
    "    ax.set_ylabel('x2')\n",
    "    ax.legend(loc=\"upper right\")\n",
    "    ax.grid(True)\n",
    "    plt.show()\n",
    "\n",
    "\n",
    "print(\"\\n#####################################################\")\n",
    "print(\"#### Cargamos conjunto de datos\")\n",
    "print(\"#####################################################\")\n",
    "\n",
    "df = pd.read_excel('ejemplo.xlsx', sheet_name='datos')\n",
    "filas, columnas = df.shape\n",
    "\n",
    "# separamos las primeras columnas y las almacenamos en X\n",
    "X = df.iloc[:,0:(columnas-1)]\n",
    "\n",
    "# separamos la clase\n",
    "y = df.iloc[:,(columnas-1)]\n",
    "\n",
    "pinta(X[y==0].values, X[y==1].values, X[y==2].values, 'Conjunto de datos')"
   ]
  },
  {
   "cell_type": "markdown",
   "metadata": {},
   "source": [
    "Como vemos en la gráfica, las clases 1 y 2 ocupan zonas muy concretas del espacio y además cuentan con un menor número de ejemplos.\n",
    "\n",
    "Las clases vendrán definidas por números diferentes, en este caso en el que tenemos 3 posibles clases podrían identificarse como {-1, 0, 1}, {1, 5, 10},... o de cualquier forma que se nos ocurra que sea un conjunto de números enteros. Personalmente, ya que en clasificación binaria hemos estado trabajando con {0, 1}, creo que una buena manera de identificar las clases es añadiendo los números consecutivos que se necesiten, resultando en este caso {0, 1, 2}. Muchas veces la nomenclatura de las clases nos vendrá impuesta, pero si no es así, tener un método claro para nombrarlas puede ser de utilidad.\n",
    "\n",
    "Vamos a partir este conjunto dejando un 30% de los ejemplos para evaluar:"
   ]
  },
  {
   "cell_type": "code",
   "execution_count": null,
   "metadata": {},
   "outputs": [],
   "source": [
    "print('\\n##########################################')\n",
    "print('### Hold-out 70-30')\n",
    "print('##########################################')\n",
    "\n",
    "X_train, X_test, y_train, y_test = train_test_split(X, y, test_size=0.3, random_state=1234, stratify=y)"
   ]
  },
  {
   "cell_type": "markdown",
   "metadata": {},
   "source": [
    "La forma de entrenar y evaluar no difiere en nada respecto a los problemas de clasificación binaria:"
   ]
  },
  {
   "cell_type": "code",
   "execution_count": null,
   "metadata": {},
   "outputs": [],
   "source": [
    "# creamos un k-vecinos\n",
    "sys_knn = KNeighborsClassifier()\n",
    "\n",
    "# entrenamos\n",
    "model = sys_knn.fit(X_train, y_train)\n",
    "\n",
    "# evaluamos\n",
    "y_pred = model.predict(X_test)\n",
    "\n",
    "# obtenemos la accuracy\n",
    "print(\"Accuracy: %.4f\" % metrics.accuracy_score(y_test, y_pred))"
   ]
  },
  {
   "cell_type": "markdown",
   "metadata": {},
   "source": [
    "## 21.1 Matriz de confusión\n",
    "\n",
    "Si queremos calcular la matriz de confusión podemos realizar los mismos pasos que ya vimos en una práctica anterior:"
   ]
  },
  {
   "cell_type": "code",
   "execution_count": null,
   "metadata": {},
   "outputs": [],
   "source": [
    "# obtenemos las diferentes etiquetas que puede tener la clase\n",
    "class_labels = df['clase'].unique()\n",
    "\n",
    "print(\"Posibles valores de la clase:\", class_labels)\n",
    "\n",
    "# se calcula la matriz de confusión indicándole las etiquetas posibles\n",
    "cm = metrics.confusion_matrix(y_test, y_pred, labels=class_labels)\n",
    "\n",
    "print(\"Matriz de confusión:\")\n",
    "print(cm)\n",
    "\n",
    "# se crea un DataFrame en el que el contenido es la matriz de confusión \n",
    "# y los índices son las posibles etiquetas de la clase\n",
    "df_cm = pd.DataFrame(cm, index=class_labels, columns=class_labels)\n",
    "\n",
    "# se muestra el mapa de calor \n",
    "sns.heatmap(df_cm, annot=True, cmap=\"Blues\", fmt='d', cbar=False)\n",
    "plt.title(\"Matriz de confusión\"), plt.tight_layout()\n",
    "plt.ylabel(\"Clase verdadera\"), plt.xlabel(\"Clase predicha\")\n",
    "plt.show()"
   ]
  },
  {
   "cell_type": "markdown",
   "metadata": {},
   "source": [
    "En este caso, tenemos 3 filas y 3 columnas puesto que tenemos 3 clases. El número de filas y columnas siempre se corresponderá con el número de clases que tenga el conjunto de datos.\n",
    "\n",
    "Vimos en una práctica anterior que en base a esta matriz de confusión calculábamos medidas como Precision, Recall y F1. Para realizar esos cálculos debemos contabilizar:\n",
    "- TP (True Positive), número de ejemplos de la clase positiva a los que se les predice la clase positiva (aciertos)\n",
    "- FP (False Positive), número de ejemplos de la clase negativa a los que se les predice la clase positiva (fallos)\n",
    "- TN (True Negative), número de ejemplos de la clase negativa a los que se les predice la clase negativa (aciertos)\n",
    "- FN (False Negative), número de ejemplos de la clase positiva a los que se les predice la clase negativa (fallos)\n",
    "\n",
    "Sin embargo ahora tenemos 3 clases, así que para realizar estos cálculos debemos considerar una de las clases como la clase positiva y el resto de clases como la clase negativa y reconstruir la matriz de confusión de la siguiente manera suponiendo que tuviésemos $n$ clases:\n",
    "\n",
    "![Matriz de confusión multiclase](fig_mccm.png) \n",
    "\n",
    "Imagen tomada de https://www.researchgate.net/publication/314116591_Activity_Context_and_Plan_Recognition_with_Computational_Causal_Behaviour_Models/figures?lo=1\n",
    "\n",
    "Así, si consideramos como positiva la clase 0, resultaría la siguiente matriz de confusión:"
   ]
  },
  {
   "cell_type": "code",
   "execution_count": null,
   "metadata": {},
   "outputs": [],
   "source": [
    "# defino cuál es la clase pivote y cuáles forman parte del resto\n",
    "clase = 0\n",
    "resto_a = 1\n",
    "resto_b = 2\n",
    "etiquetas_clases = [str(clase), 'resto']\n",
    "\n",
    "# sumo las filas del resto de clases\n",
    "verdadero_resto = cm[resto_a, :]+cm[resto_b ,:]\n",
    "\n",
    "# creo la nueva matriz de confusión\n",
    "cm_clase_resto = np.empty((2, 2), int)\n",
    "\n",
    "# se realizan los cálculos adecuados para obtener TP, FP, TN, FN\n",
    "cm_clase_resto[0, 0] = cm[clase, clase]\n",
    "cm_clase_resto[1, 1] = verdadero_resto[resto_a] + verdadero_resto[resto_b]\n",
    "cm_clase_resto[1, 0] = verdadero_resto[clase]\n",
    "cm_clase_resto[0, 1] = cm[clase, resto_a] + cm[clase, resto_b]\n",
    "print(cm_clase_resto)\n",
    "\n",
    "# se crea un DataFrame en el que el contenido es la matriz de confusión \n",
    "# y los índices son las posibles etiquetas de la clase\n",
    "df_cm = pd.DataFrame(cm_clase_resto, index=etiquetas_clases, columns=etiquetas_clases)\n",
    "\n",
    "# se muestra el mapa de calor \n",
    "sns.heatmap(df_cm, annot=True, cmap=\"Blues\", fmt='d', cbar=False)\n",
    "plt.title(\"Matriz de confusión para la clase \"+str(clase)), plt.tight_layout()\n",
    "plt.ylabel(\"Clase verdadera\"), plt.xlabel(\"Clase predicha\")\n",
    "plt.show()"
   ]
  },
  {
   "cell_type": "markdown",
   "metadata": {},
   "source": [
    "Y sobre esta matriz ya podríamos realizar los cálculos de las medidas que deseásemos.\n",
    "\n",
    "Si quisiésemos realizar los cálculos para la clase 1, tendríamos que obtener su matriz:"
   ]
  },
  {
   "cell_type": "code",
   "execution_count": null,
   "metadata": {},
   "outputs": [],
   "source": [
    "# defino cuál es la clase pivote y cuáles forman parte del resto\n",
    "clase = 1\n",
    "resto_a = 0\n",
    "resto_b = 2\n",
    "etiquetas_clases = [str(clase), 'resto']\n",
    "\n",
    "# sumo las filas del resto de clases\n",
    "verdadero_resto = cm[resto_a, :]+cm[resto_b ,:]\n",
    "\n",
    "# creo la nueva matriz de confusión\n",
    "cm_clase_resto = np.empty((2, 2), int)\n",
    "\n",
    "# se realizan los cálculos adecuados para obtener TP, FP, TN, FN\n",
    "cm_clase_resto[0, 0] = cm[clase, clase]\n",
    "cm_clase_resto[1, 1] = verdadero_resto[resto_a] + verdadero_resto[resto_b]\n",
    "cm_clase_resto[1, 0] = verdadero_resto[clase]\n",
    "cm_clase_resto[0, 1] = cm[clase, resto_a] + cm[clase, resto_b]\n",
    "print(cm_clase_resto)\n",
    "\n",
    "# se crea un DataFrame en el que el contenido es la matriz de confusión \n",
    "# y los índices son las posibles etiquetas de la clase\n",
    "df_cm = pd.DataFrame(cm_clase_resto, index=etiquetas_clases, columns=etiquetas_clases)\n",
    "\n",
    "# se muestra el mapa de calor \n",
    "sns.heatmap(df_cm, annot=True, cmap=\"Blues\", fmt='d', cbar=False)\n",
    "plt.title(\"Matriz de confusión para la clase \"+str(clase)), plt.tight_layout()\n",
    "plt.ylabel(\"Clase verdadera\"), plt.xlabel(\"Clase predicha\")\n",
    "plt.show()"
   ]
  },
  {
   "cell_type": "markdown",
   "metadata": {},
   "source": [
    "Y para obtener las medidas para la clase 2 tendríamos que calcular su propia matriz de confusión:"
   ]
  },
  {
   "cell_type": "code",
   "execution_count": null,
   "metadata": {},
   "outputs": [],
   "source": [
    "# defino cuál es la clase pivote y cuáles forman parte del resto\n",
    "clase = 2\n",
    "resto_a = 1\n",
    "resto_b = 0\n",
    "etiquetas_clases = [str(clase), 'resto']\n",
    "\n",
    "# sumo las filas del resto de clases\n",
    "verdadero_resto = cm[resto_a, :]+cm[resto_b ,:]\n",
    "\n",
    "# creo la nueva matriz de confusión\n",
    "cm_clase_resto = np.empty((2, 2), int)\n",
    "\n",
    "# se realizan los cálculos adecuados para obtener TP, FP, TN, FN\n",
    "cm_clase_resto[0, 0] = cm[clase, clase]\n",
    "cm_clase_resto[1, 1] = verdadero_resto[resto_a] + verdadero_resto[resto_b]\n",
    "cm_clase_resto[1, 0] = verdadero_resto[clase]\n",
    "cm_clase_resto[0, 1] = cm[clase, resto_a] + cm[clase, resto_b]\n",
    "print(cm_clase_resto)\n",
    "\n",
    "# se crea un DataFrame en el que el contenido es la matriz de confusión \n",
    "# y los índices son las posibles etiquetas de la clase\n",
    "df_cm = pd.DataFrame(cm_clase_resto, index=etiquetas_clases, columns=etiquetas_clases)\n",
    "\n",
    "# se muestra el mapa de calor \n",
    "sns.heatmap(df_cm, annot=True, cmap=\"Blues\", fmt='d', cbar=False)\n",
    "plt.title(\"Matriz de confusión para la clase \"+str(clase)), plt.tight_layout()\n",
    "plt.ylabel(\"Clase verdadera\"), plt.xlabel(\"Clase predicha\")\n",
    "plt.show()"
   ]
  },
  {
   "cell_type": "markdown",
   "metadata": {},
   "source": [
    "Una forma de obtener estas medidas para cada clase sin necesidad de calcular todas las matrices de confusión es utilizando la función `classification_report()`:"
   ]
  },
  {
   "cell_type": "code",
   "execution_count": null,
   "metadata": {},
   "outputs": [],
   "source": [
    "# mostramos el informe de clasificación\n",
    "print(metrics.classification_report(y_test, y_pred, digits=3))"
   ]
  },
  {
   "cell_type": "markdown",
   "metadata": {},
   "source": [
    "Este informe nos muestra precision, recall y F1 de la matriz de confusión de cada una de las clases. Bajo el nombre `support` nos muestra el número de ejemplos de cada clase.\n",
    "\n",
    "También nos muestra la accuracy del modelo y las medias ponderadas y sin ponderar:\n",
    "- `macro avg` se correspondería con la media sin ponderar, es decir, suma el valor de una de las medidas para las tres clases y luego divide entre 3.\n",
    "- `weighted avg` calcula la media ponderada en función del número de ejemplos.\n",
    "\n",
    "Más información sobre esta función podemos encontrarla en: https://scikit-learn.org/stable/modules/generated/sklearn.metrics.classification_report.html?highlight=classification_report\n",
    "\n",
    "Si queremos almacenar todos estos cálculos para luego operar con ellos, podemos indicarle a esta función mediante `output_dict=True` que genere un diccionario con los resultados:"
   ]
  },
  {
   "cell_type": "code",
   "execution_count": null,
   "metadata": {},
   "outputs": [],
   "source": [
    "resultados = metrics.classification_report(y_test, y_pred, output_dict=True)\n",
    "display(resultados)"
   ]
  },
  {
   "cell_type": "markdown",
   "metadata": {},
   "source": [
    "## 21.2 Algoritmos preparados para tareas multiclase\n",
    "\n",
    "No todos los algoritmos están preparados para trabajar con conjuntos de datos multiclase de manera natural. La mayoría de los algoritmos existentes están pensados para resolver problemas binarios aunque se pueden adaptar para tareas multiclase. Esto es algo que veremos en la próxima práctica.\n",
    "\n",
    "De los algoritmos que hemos visto hasta el momento, únicamente `KNeighborsClassifier`, `GaussianNB`, `DecisionTreeClassifier` y `RandomForestClassifier` pueden resolver problemas de clasificación multiclase de manera directa.\n",
    "\n",
    "En esta sesión hemos estado trabajando con `KNeighborsClassifier`. Veamos cómo son las regiones que define el modelo entrenado para este conjunto de datos:"
   ]
  },
  {
   "cell_type": "code",
   "execution_count": null,
   "metadata": {},
   "outputs": [],
   "source": [
    "# con k-vecinos\n",
    "sys_knn = KNeighborsClassifier(n_neighbors=5)\n",
    "model = sys_knn.fit(X_train, y_train)\n",
    "y_pred = model.predict(X_test)\n",
    "print(\"Accuracy: %.4f\" % metrics.accuracy_score(y_test, y_pred))\n",
    "\n",
    "# mostramos el informe de clasificación\n",
    "print(metrics.classification_report(y_test, y_pred))\n",
    "\n",
    "# se genera el display con el espacio coloreado\n",
    "disp = DecisionBoundaryDisplay.from_estimator(sys_knn, X, response_method=\"predict\", cmap=plt.cm.RdYlBu, alpha=0.6, xlabel=X.columns[0], ylabel=X.columns[1])\n",
    "\n",
    "# se incorporan los datos\n",
    "disp.ax_.scatter(X.values[:,0], X.values[:,1], c=y, cmap=plt.cm.RdYlBu)\n",
    "\n",
    "disp.ax_.set_xlim([0, 1])\n",
    "disp.ax_.set_ylim([0, 1])\n",
    "disp.ax_.set_title('Superficie de cada clase en el espacio de entrada')\n",
    "plt.show()"
   ]
  },
  {
   "cell_type": "markdown",
   "metadata": {},
   "source": [
    "Vemos que la naturaleza del k-vecinos hace que las regiones se adapten mucho. Si hubiésemos entrenado con un número de vecinos diferente las regiones cambiarían.\n",
    "\n",
    "Si utilizamos Naïve Bayes obtendríamos lo siguiente:"
   ]
  },
  {
   "cell_type": "code",
   "execution_count": null,
   "metadata": {},
   "outputs": [],
   "source": [
    "# con Naïve Bayes\n",
    "sys_dt = GaussianNB()\n",
    "model = sys_dt.fit(X_train, y_train)\n",
    "y_pred = model.predict(X_test)\n",
    "print(\"Accuracy: %.4f\" % metrics.accuracy_score(y_test, y_pred))\n",
    "\n",
    "# mostramos el informe de clasificación\n",
    "print(metrics.classification_report(y_test, y_pred))\n",
    "\n",
    "# se genera el display con el espacio coloreado\n",
    "disp = DecisionBoundaryDisplay.from_estimator(sys_dt, X, response_method=\"predict\", cmap=plt.cm.RdYlBu, alpha=0.6, xlabel=X.columns[0], ylabel=X.columns[1])\n",
    "\n",
    "# se incorporan los datos\n",
    "disp.ax_.scatter(X.values[:,0], X.values[:,1], c=y, cmap=plt.cm.RdYlBu)\n",
    "\n",
    "disp.ax_.set_xlim([0, 1])\n",
    "disp.ax_.set_ylim([0, 1])\n",
    "disp.ax_.set_title('Superficie de cada clase en el espacio de entrada')\n",
    "plt.show()"
   ]
  },
  {
   "cell_type": "markdown",
   "metadata": {},
   "source": [
    "Vemos que en este caso las regiones se definen con formas de gaussianas centradas en las zonas con mayor densidad de ejemplos de cada clase.\n",
    "\n",
    "Si buscamos una solución basada en árboles de decisión esto es lo que obtendremos:"
   ]
  },
  {
   "cell_type": "code",
   "execution_count": null,
   "metadata": {},
   "outputs": [],
   "source": [
    "# con árboles de decisión\n",
    "sys_dt = DecisionTreeClassifier(random_state=1234)\n",
    "model = sys_dt.fit(X_train, y_train)\n",
    "y_pred = model.predict(X_test)\n",
    "print(\"Accuracy: %.4f\" % metrics.accuracy_score(y_test, y_pred))\n",
    "\n",
    "# mostramos el informe de clasificación\n",
    "print(metrics.classification_report(y_test, y_pred))\n",
    "\n",
    "# se genera el display con el espacio coloreado\n",
    "disp = DecisionBoundaryDisplay.from_estimator(sys_dt, X, response_method=\"predict\", cmap=plt.cm.RdYlBu, alpha=0.6, xlabel=X.columns[0], ylabel=X.columns[1])\n",
    "\n",
    "# se incorporan los datos\n",
    "disp.ax_.scatter(X.values[:,0], X.values[:,1], c=y, cmap=plt.cm.RdYlBu)\n",
    "\n",
    "disp.ax_.set_xlim([0, 1])\n",
    "disp.ax_.set_ylim([0, 1])\n",
    "disp.ax_.set_title('Superficie de cada clase en el espacio de entrada')\n",
    "plt.show()"
   ]
  },
  {
   "cell_type": "markdown",
   "metadata": {},
   "source": [
    "En este caso vemos que aparecen zonas delimitadas mediante cortes paralelos (o perpendiculares) a los ejes. Esta es la forma natural de separar el espacio para los árboles de decisión.\n",
    "\n",
    "En el caso de un Random Forest, que se basa en la combinación de árboles de decisión, veremos que en esencia el espacio se divide utilizando también cortes paralelos (o perpendiculares) a los ejes, pero en determinadas zonas del espacio esos rectángulos se adaptarán ligeramente:"
   ]
  },
  {
   "cell_type": "code",
   "execution_count": null,
   "metadata": {},
   "outputs": [],
   "source": [
    "# con random forest\n",
    "sys_rf = RandomForestClassifier(random_state=1234, n_jobs=-1)\n",
    "model = sys_rf.fit(X_train, y_train)\n",
    "y_pred = model.predict(X_test)\n",
    "print(\"Accuracy: %.4f\" % metrics.accuracy_score(y_test, y_pred))\n",
    "\n",
    "# mostramos el informe de clasificación\n",
    "print(metrics.classification_report(y_test, y_pred))\n",
    "\n",
    "# se genera el display con el espacio coloreado\n",
    "disp = DecisionBoundaryDisplay.from_estimator(sys_rf, X, response_method=\"predict\", cmap=plt.cm.RdYlBu, alpha=0.6, xlabel=X.columns[0], ylabel=X.columns[1])\n",
    "\n",
    "# se incorporan los datos\n",
    "disp.ax_.scatter(X.values[:,0], X.values[:,1], c=y, cmap=plt.cm.RdYlBu)\n",
    "\n",
    "disp.ax_.set_xlim([0, 1])\n",
    "disp.ax_.set_ylim([0, 1])\n",
    "disp.ax_.set_title('Superficie de cada clase en el espacio de entrada')\n",
    "plt.show()"
   ]
  },
  {
   "cell_type": "markdown",
   "metadata": {},
   "source": [
    "## Ejercicios\n",
    "\n",
    "1. Carga los datos de la pestaña \"NPS\" que hay en el fichero **CTG.xls**. \n",
    "2. Se debe calcular para los sistemas `KNeighborsClassifier`, `GaussianNB`, `DecisionTreeClassifier` y `RandomForestClassifier` las métricas accuracy y las medias ponderadas de precision, recall y F1.\n",
    "3. Presentar los resultados en forma de tabla.\n",
    "\n",
    "Estos ejercicios no es necesario entregarlos."
   ]
  }
 ],
 "metadata": {
  "kernelspec": {
   "display_name": "Python 3.10.8 64-bit (microsoft store)",
   "language": "python",
   "name": "python3"
  },
  "language_info": {
   "codemirror_mode": {
    "name": "ipython",
    "version": 3
   },
   "file_extension": ".py",
   "mimetype": "text/x-python",
   "name": "python",
   "nbconvert_exporter": "python",
   "pygments_lexer": "ipython3",
   "version": "3.10.9 (tags/v3.10.9:1dd9be6, Dec  6 2022, 20:01:21) [MSC v.1934 64 bit (AMD64)]"
  },
  "orig_nbformat": 4,
  "vscode": {
   "interpreter": {
    "hash": "64f5837e16e2c9074d8bf8acfd45df7ca64748c9ff033f1607453426c7868d4d"
   }
  }
 },
 "nbformat": 4,
 "nbformat_minor": 2
}
