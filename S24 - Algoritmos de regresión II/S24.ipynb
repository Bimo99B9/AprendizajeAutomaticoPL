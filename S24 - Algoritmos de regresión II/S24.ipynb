{
 "cells": [
  {
   "cell_type": "markdown",
   "metadata": {},
   "source": [
    "![Logo de AA1](logo_AA1_texto_small.png) \n",
    "# Sesión 24 - Otros algoritmos de regresión\n",
    "\n",
    "En las sesiones anteriores hemos explicado las ideas fundamentales de varios algoritmos de aprendizaje automático. \n",
    "Muchos de esos algoritmos pueden utilizarse también en tareas de regresión.\n",
    "\n",
    "En esta sesión vamos a ir comentando las particularidades de cada uno de esos algoritmos para poder resolver tareas de regresión.\n",
    "\n",
    "Vamos a cargar un conjunto de datos para poder ejecutar algún algoritmo:\n"
   ]
  },
  {
   "cell_type": "code",
   "execution_count": 1,
   "metadata": {},
   "outputs": [
    {
     "name": "stdout",
     "output_type": "stream",
     "text": [
      "\n",
      "##########################################\n",
      "### cargar el conjunto y separar X e y\n",
      "##########################################\n"
     ]
    },
    {
     "data": {
      "text/html": [
       "<div>\n",
       "<style scoped>\n",
       "    .dataframe tbody tr th:only-of-type {\n",
       "        vertical-align: middle;\n",
       "    }\n",
       "\n",
       "    .dataframe tbody tr th {\n",
       "        vertical-align: top;\n",
       "    }\n",
       "\n",
       "    .dataframe thead th {\n",
       "        text-align: right;\n",
       "    }\n",
       "</style>\n",
       "<table border=\"1\" class=\"dataframe\">\n",
       "  <thead>\n",
       "    <tr style=\"text-align: right;\">\n",
       "      <th></th>\n",
       "      <th>CRIM</th>\n",
       "      <th>ZN</th>\n",
       "      <th>INDUS</th>\n",
       "      <th>CHAS</th>\n",
       "      <th>NOX</th>\n",
       "      <th>RM</th>\n",
       "      <th>AGE</th>\n",
       "      <th>DIS</th>\n",
       "      <th>RAD</th>\n",
       "      <th>TAX</th>\n",
       "      <th>PTRATIO</th>\n",
       "      <th>B</th>\n",
       "      <th>LSTAT</th>\n",
       "    </tr>\n",
       "  </thead>\n",
       "  <tbody>\n",
       "    <tr>\n",
       "      <th>0</th>\n",
       "      <td>0.00632</td>\n",
       "      <td>18.0</td>\n",
       "      <td>2.31</td>\n",
       "      <td>0</td>\n",
       "      <td>0.538</td>\n",
       "      <td>6.575</td>\n",
       "      <td>65.2</td>\n",
       "      <td>4.0900</td>\n",
       "      <td>1</td>\n",
       "      <td>296.0</td>\n",
       "      <td>15.3</td>\n",
       "      <td>396.90</td>\n",
       "      <td>4.98</td>\n",
       "    </tr>\n",
       "    <tr>\n",
       "      <th>1</th>\n",
       "      <td>0.02731</td>\n",
       "      <td>0.0</td>\n",
       "      <td>7.07</td>\n",
       "      <td>0</td>\n",
       "      <td>0.469</td>\n",
       "      <td>6.421</td>\n",
       "      <td>78.9</td>\n",
       "      <td>4.9671</td>\n",
       "      <td>2</td>\n",
       "      <td>242.0</td>\n",
       "      <td>17.8</td>\n",
       "      <td>396.90</td>\n",
       "      <td>9.14</td>\n",
       "    </tr>\n",
       "    <tr>\n",
       "      <th>2</th>\n",
       "      <td>0.02729</td>\n",
       "      <td>0.0</td>\n",
       "      <td>7.07</td>\n",
       "      <td>0</td>\n",
       "      <td>0.469</td>\n",
       "      <td>7.185</td>\n",
       "      <td>61.1</td>\n",
       "      <td>4.9671</td>\n",
       "      <td>2</td>\n",
       "      <td>242.0</td>\n",
       "      <td>17.8</td>\n",
       "      <td>392.83</td>\n",
       "      <td>4.03</td>\n",
       "    </tr>\n",
       "    <tr>\n",
       "      <th>3</th>\n",
       "      <td>0.03237</td>\n",
       "      <td>0.0</td>\n",
       "      <td>2.18</td>\n",
       "      <td>0</td>\n",
       "      <td>0.458</td>\n",
       "      <td>6.998</td>\n",
       "      <td>45.8</td>\n",
       "      <td>6.0622</td>\n",
       "      <td>3</td>\n",
       "      <td>222.0</td>\n",
       "      <td>18.7</td>\n",
       "      <td>394.63</td>\n",
       "      <td>2.94</td>\n",
       "    </tr>\n",
       "    <tr>\n",
       "      <th>4</th>\n",
       "      <td>0.06905</td>\n",
       "      <td>0.0</td>\n",
       "      <td>2.18</td>\n",
       "      <td>0</td>\n",
       "      <td>0.458</td>\n",
       "      <td>7.147</td>\n",
       "      <td>54.2</td>\n",
       "      <td>6.0622</td>\n",
       "      <td>3</td>\n",
       "      <td>222.0</td>\n",
       "      <td>18.7</td>\n",
       "      <td>396.90</td>\n",
       "      <td>5.33</td>\n",
       "    </tr>\n",
       "    <tr>\n",
       "      <th>...</th>\n",
       "      <td>...</td>\n",
       "      <td>...</td>\n",
       "      <td>...</td>\n",
       "      <td>...</td>\n",
       "      <td>...</td>\n",
       "      <td>...</td>\n",
       "      <td>...</td>\n",
       "      <td>...</td>\n",
       "      <td>...</td>\n",
       "      <td>...</td>\n",
       "      <td>...</td>\n",
       "      <td>...</td>\n",
       "      <td>...</td>\n",
       "    </tr>\n",
       "    <tr>\n",
       "      <th>501</th>\n",
       "      <td>0.06263</td>\n",
       "      <td>0.0</td>\n",
       "      <td>11.93</td>\n",
       "      <td>0</td>\n",
       "      <td>0.573</td>\n",
       "      <td>6.593</td>\n",
       "      <td>69.1</td>\n",
       "      <td>2.4786</td>\n",
       "      <td>1</td>\n",
       "      <td>273.0</td>\n",
       "      <td>21.0</td>\n",
       "      <td>391.99</td>\n",
       "      <td>9.67</td>\n",
       "    </tr>\n",
       "    <tr>\n",
       "      <th>502</th>\n",
       "      <td>0.04527</td>\n",
       "      <td>0.0</td>\n",
       "      <td>11.93</td>\n",
       "      <td>0</td>\n",
       "      <td>0.573</td>\n",
       "      <td>6.120</td>\n",
       "      <td>76.7</td>\n",
       "      <td>2.2875</td>\n",
       "      <td>1</td>\n",
       "      <td>273.0</td>\n",
       "      <td>21.0</td>\n",
       "      <td>396.90</td>\n",
       "      <td>9.08</td>\n",
       "    </tr>\n",
       "    <tr>\n",
       "      <th>503</th>\n",
       "      <td>0.06076</td>\n",
       "      <td>0.0</td>\n",
       "      <td>11.93</td>\n",
       "      <td>0</td>\n",
       "      <td>0.573</td>\n",
       "      <td>6.976</td>\n",
       "      <td>91.0</td>\n",
       "      <td>2.1675</td>\n",
       "      <td>1</td>\n",
       "      <td>273.0</td>\n",
       "      <td>21.0</td>\n",
       "      <td>396.90</td>\n",
       "      <td>5.64</td>\n",
       "    </tr>\n",
       "    <tr>\n",
       "      <th>504</th>\n",
       "      <td>0.10959</td>\n",
       "      <td>0.0</td>\n",
       "      <td>11.93</td>\n",
       "      <td>0</td>\n",
       "      <td>0.573</td>\n",
       "      <td>6.794</td>\n",
       "      <td>89.3</td>\n",
       "      <td>2.3889</td>\n",
       "      <td>1</td>\n",
       "      <td>273.0</td>\n",
       "      <td>21.0</td>\n",
       "      <td>393.45</td>\n",
       "      <td>6.48</td>\n",
       "    </tr>\n",
       "    <tr>\n",
       "      <th>505</th>\n",
       "      <td>0.04741</td>\n",
       "      <td>0.0</td>\n",
       "      <td>11.93</td>\n",
       "      <td>0</td>\n",
       "      <td>0.573</td>\n",
       "      <td>6.030</td>\n",
       "      <td>80.8</td>\n",
       "      <td>2.5050</td>\n",
       "      <td>1</td>\n",
       "      <td>273.0</td>\n",
       "      <td>21.0</td>\n",
       "      <td>396.90</td>\n",
       "      <td>7.88</td>\n",
       "    </tr>\n",
       "  </tbody>\n",
       "</table>\n",
       "<p>506 rows × 13 columns</p>\n",
       "</div>"
      ],
      "text/plain": [
       "        CRIM    ZN  INDUS  CHAS    NOX     RM   AGE     DIS  RAD    TAX  \\\n",
       "0    0.00632  18.0   2.31     0  0.538  6.575  65.2  4.0900    1  296.0   \n",
       "1    0.02731   0.0   7.07     0  0.469  6.421  78.9  4.9671    2  242.0   \n",
       "2    0.02729   0.0   7.07     0  0.469  7.185  61.1  4.9671    2  242.0   \n",
       "3    0.03237   0.0   2.18     0  0.458  6.998  45.8  6.0622    3  222.0   \n",
       "4    0.06905   0.0   2.18     0  0.458  7.147  54.2  6.0622    3  222.0   \n",
       "..       ...   ...    ...   ...    ...    ...   ...     ...  ...    ...   \n",
       "501  0.06263   0.0  11.93     0  0.573  6.593  69.1  2.4786    1  273.0   \n",
       "502  0.04527   0.0  11.93     0  0.573  6.120  76.7  2.2875    1  273.0   \n",
       "503  0.06076   0.0  11.93     0  0.573  6.976  91.0  2.1675    1  273.0   \n",
       "504  0.10959   0.0  11.93     0  0.573  6.794  89.3  2.3889    1  273.0   \n",
       "505  0.04741   0.0  11.93     0  0.573  6.030  80.8  2.5050    1  273.0   \n",
       "\n",
       "     PTRATIO       B  LSTAT  \n",
       "0       15.3  396.90   4.98  \n",
       "1       17.8  396.90   9.14  \n",
       "2       17.8  392.83   4.03  \n",
       "3       18.7  394.63   2.94  \n",
       "4       18.7  396.90   5.33  \n",
       "..       ...     ...    ...  \n",
       "501     21.0  391.99   9.67  \n",
       "502     21.0  396.90   9.08  \n",
       "503     21.0  396.90   5.64  \n",
       "504     21.0  393.45   6.48  \n",
       "505     21.0  396.90   7.88  \n",
       "\n",
       "[506 rows x 13 columns]"
      ]
     },
     "metadata": {},
     "output_type": "display_data"
    },
    {
     "data": {
      "text/plain": [
       "0      24.0\n",
       "1      21.6\n",
       "2      34.7\n",
       "3      33.4\n",
       "4      36.2\n",
       "       ... \n",
       "501    22.4\n",
       "502    20.6\n",
       "503    23.9\n",
       "504    22.0\n",
       "505    11.9\n",
       "Name: MEDV, Length: 506, dtype: float64"
      ]
     },
     "metadata": {},
     "output_type": "display_data"
    },
    {
     "name": "stdout",
     "output_type": "stream",
     "text": [
      "\n",
      "##########################################\n",
      "### Hold-out 80-20\n",
      "##########################################\n"
     ]
    }
   ],
   "source": [
    "import matplotlib.pyplot as plt\n",
    "import numpy as np\n",
    "import pandas as pd\n",
    "import pydotplus\n",
    "from IPython.display import Image\n",
    "from sklearn import metrics\n",
    "from sklearn.ensemble import AdaBoostRegressor, RandomForestRegressor\n",
    "from sklearn.model_selection import train_test_split\n",
    "from sklearn.neighbors import KNeighborsRegressor\n",
    "from sklearn.svm import SVR\n",
    "from sklearn.tree import DecisionTreeRegressor, export_graphviz\n",
    "from xgboost import XGBRegressor\n",
    "\n",
    "print('\\n##########################################')\n",
    "print('### cargar el conjunto y separar X e y')\n",
    "print('##########################################')\n",
    "\n",
    "# se llama a la función read_csv\n",
    "# no tiene missing y las columnas están separadas por uno o varios espacios en blanco '\\s+'. No tiene cabecera\n",
    "cabecera = ['CRIM', 'ZN', 'INDUS', 'CHAS', 'NOX', 'RM', 'AGE', 'DIS', 'RAD', 'TAX', 'PTRATIO', 'B', 'LSTAT', 'MEDV']\n",
    "df = pd.read_csv('housing.data', sep='\\s+', names=cabecera)\n",
    "filas, columnas = df.shape\n",
    "\n",
    "\n",
    "# la clase está en la última columna \n",
    "# separamos los atributos y los almacenamos en X\n",
    "X = df.drop(['MEDV'], axis=1)\n",
    "display(X)\n",
    "\n",
    "# separamos la clase y la almacenamos en Y\n",
    "y = df['MEDV']\n",
    "display(y)\n",
    "\n",
    "print('\\n##########################################')\n",
    "print('### Hold-out 80-20')\n",
    "print('##########################################')\n",
    "\n",
    "# en los problemas de regresión no tiene sentido estratificar\n",
    "X_train, X_test, y_train, y_test = train_test_split(X, y, test_size=0.2, random_state=1234)"
   ]
  },
  {
   "cell_type": "markdown",
   "metadata": {},
   "source": [
    "\n",
    "## 24.1 K-vecinos\n",
    "\n",
    "La esencia de este algoritmo es localizar los `n_neighbors` vecinos más cercanos y realizar una predicción condicionada por los valores que tienen esos vecinos:\n",
    "- si `weights=uniform` la predicción será la media de la clase de los vecinos más próximos\n",
    "- si `weights=distance` la predicción será la media ponderada por la distancia a la que está cada vecino\n",
    "\n",
    "En `Scikit-learn` contamos con `KNeighborsRegressor` para aplicar este algoritmos en problemas de regresión. En https://scikit-learn.org/stable/modules/generated/sklearn.neighbors.KNeighborsRegressor.html?highlight=regressor#sklearn.neighbors.KNeighborsRegressor podéis ver más detalles.\n",
    "\n",
    "Veamos un ejemplo de uso:"
   ]
  },
  {
   "cell_type": "code",
   "execution_count": 2,
   "metadata": {},
   "outputs": [
    {
     "name": "stdout",
     "output_type": "stream",
     "text": [
      "MAE = 4.713\n",
      "MSE = 45.424\n",
      "R2 = 0.557\n"
     ]
    }
   ],
   "source": [
    "# se crea el k-vecinos\n",
    "sys = KNeighborsRegressor()\n",
    "\n",
    "# se entrena y se evalúa\n",
    "sys.fit(X_train, y_train)\n",
    "y_pred = sys.predict(X_test)\n",
    "\n",
    "# se calculan las métricas\n",
    "mae = metrics.mean_absolute_error(y_test, y_pred)\n",
    "mse = metrics.mean_squared_error(y_test, y_pred)\n",
    "r2 = metrics.r2_score(y_test, y_pred)\n",
    "print(\"MAE = %.3f\\nMSE = %.3f\\nR2 = %.3f\" % (mae, mse, r2))"
   ]
  },
  {
   "cell_type": "markdown",
   "metadata": {},
   "source": [
    "## 24.2 Árboles de decisión \n",
    "\n",
    "Ya vimos que una de las cualidades de los árboles de decisión es su capacidad explicativa y por eso siguen siendo tan utilizados.\n",
    "\n",
    "Los árboles de decisión en tareas de regresión, para decidir cual es el mejor punto de corte para utilizar un atributo como nodo en el árbol, **escogen aquel que minimiza el error cuadrático medio**.\n",
    "\n",
    "Para trabajar con problemas de regresión contamos con `DecisionTreeRegressor` que comparte muchas de las características que ya vimos en el clasificador:\n",
    "- `max_depth`, profundidad máxima del árbol.\n",
    "- `min_samples_split`, mínimo número de ejemplos que debe tener un nodo para ser dividido.\n",
    "- `min_samples_leaf`, mínimo número de ejemplos requeridos en una hoja.\n",
    "- `max_leaf_nodes`, máximo número de hojas.\n",
    "- `min_impurity_decrease`, mímino decrecimiento requerido de la impureza para aceptar una división.\n",
    "\n",
    "https://scikit-learn.org/stable/modules/generated/sklearn.tree.DecisionTreeRegressor.html?highlight=decisiontree#sklearn.tree.DecisionTreeRegressor\n",
    "\n",
    "Vamos a ejecutarlo:"
   ]
  },
  {
   "cell_type": "code",
   "execution_count": 3,
   "metadata": {},
   "outputs": [
    {
     "name": "stdout",
     "output_type": "stream",
     "text": [
      "MAE = 2.612\n",
      "MSE = 12.366\n",
      "R2 = 0.880\n"
     ]
    }
   ],
   "source": [
    "# se crea el árbol de decisión\n",
    "sys = DecisionTreeRegressor(random_state=1234)\n",
    "\n",
    "# se entrena y se evalúa\n",
    "sys.fit(X_train, y_train)\n",
    "y_pred = sys.predict(X_test)\n",
    "\n",
    "# se calculan las métricas\n",
    "mae = metrics.mean_absolute_error(y_test, y_pred)\n",
    "mse = metrics.mean_squared_error(y_test, y_pred)\n",
    "r2 = metrics.r2_score(y_test, y_pred)\n",
    "print(\"MAE = %.3f\\nMSE = %.3f\\nR2 = %.3f\" % (mae, mse, r2))"
   ]
  },
  {
   "cell_type": "markdown",
   "metadata": {},
   "source": [
    "Y ahora vamos a visualizar el árbol generado:"
   ]
  },
  {
   "cell_type": "code",
   "execution_count": 4,
   "metadata": {},
   "outputs": [
    {
     "ename": "InvocationException",
     "evalue": "GraphViz's executables not found",
     "output_type": "error",
     "traceback": [
      "\u001b[1;31m---------------------------------------------------------------------------\u001b[0m",
      "\u001b[1;31mInvocationException\u001b[0m                       Traceback (most recent call last)",
      "\u001b[1;32mc:\\Users\\UO281798\\Documents\\GitHub\\AprendizajeAutomaticoPL\\S24 - Algoritmos de regresión II\\S24.ipynb Cell 8'\u001b[0m in \u001b[0;36m<cell line: 10>\u001b[1;34m()\u001b[0m\n\u001b[0;32m      <a href='vscode-notebook-cell:/c%3A/Users/UO281798/Documents/GitHub/AprendizajeAutomaticoPL/S24%20-%20Algoritmos%20de%20regresi%C3%B3n%20II/S24.ipynb#ch0000007?line=6'>7</a>\u001b[0m graph \u001b[39m=\u001b[39m pydotplus\u001b[39m.\u001b[39mgraph_from_dot_data(dot_data)\n\u001b[0;32m      <a href='vscode-notebook-cell:/c%3A/Users/UO281798/Documents/GitHub/AprendizajeAutomaticoPL/S24%20-%20Algoritmos%20de%20regresi%C3%B3n%20II/S24.ipynb#ch0000007?line=8'>9</a>\u001b[0m \u001b[39m# lo visualizamos\u001b[39;00m\n\u001b[1;32m---> <a href='vscode-notebook-cell:/c%3A/Users/UO281798/Documents/GitHub/AprendizajeAutomaticoPL/S24%20-%20Algoritmos%20de%20regresi%C3%B3n%20II/S24.ipynb#ch0000007?line=9'>10</a>\u001b[0m Image(graph\u001b[39m.\u001b[39;49mcreate_png())\n",
      "File \u001b[1;32mc:\\Python310\\lib\\site-packages\\pydotplus\\graphviz.py:1797\u001b[0m, in \u001b[0;36mDot.__init__.<locals>.<lambda>\u001b[1;34m(f, prog)\u001b[0m\n\u001b[0;32m   <a href='file:///c%3A/Python310/lib/site-packages/pydotplus/graphviz.py?line=1791'>1792</a>\u001b[0m \u001b[39m# Automatically creates all the methods enabling the creation\u001b[39;00m\n\u001b[0;32m   <a href='file:///c%3A/Python310/lib/site-packages/pydotplus/graphviz.py?line=1792'>1793</a>\u001b[0m \u001b[39m# of output in any of the supported formats.\u001b[39;00m\n\u001b[0;32m   <a href='file:///c%3A/Python310/lib/site-packages/pydotplus/graphviz.py?line=1793'>1794</a>\u001b[0m \u001b[39mfor\u001b[39;00m frmt \u001b[39min\u001b[39;00m \u001b[39mself\u001b[39m\u001b[39m.\u001b[39mformats:\n\u001b[0;32m   <a href='file:///c%3A/Python310/lib/site-packages/pydotplus/graphviz.py?line=1794'>1795</a>\u001b[0m     \u001b[39mself\u001b[39m\u001b[39m.\u001b[39m\u001b[39m__setattr__\u001b[39m(\n\u001b[0;32m   <a href='file:///c%3A/Python310/lib/site-packages/pydotplus/graphviz.py?line=1795'>1796</a>\u001b[0m         \u001b[39m'\u001b[39m\u001b[39mcreate_\u001b[39m\u001b[39m'\u001b[39m \u001b[39m+\u001b[39m frmt,\n\u001b[1;32m-> <a href='file:///c%3A/Python310/lib/site-packages/pydotplus/graphviz.py?line=1796'>1797</a>\u001b[0m         \u001b[39mlambda\u001b[39;00m f\u001b[39m=\u001b[39mfrmt, prog\u001b[39m=\u001b[39m\u001b[39mself\u001b[39m\u001b[39m.\u001b[39mprog: \u001b[39mself\u001b[39;49m\u001b[39m.\u001b[39;49mcreate(\u001b[39mformat\u001b[39;49m\u001b[39m=\u001b[39;49mf, prog\u001b[39m=\u001b[39;49mprog)\n\u001b[0;32m   <a href='file:///c%3A/Python310/lib/site-packages/pydotplus/graphviz.py?line=1797'>1798</a>\u001b[0m     )\n\u001b[0;32m   <a href='file:///c%3A/Python310/lib/site-packages/pydotplus/graphviz.py?line=1798'>1799</a>\u001b[0m     f \u001b[39m=\u001b[39m \u001b[39mself\u001b[39m\u001b[39m.\u001b[39m\u001b[39m__dict__\u001b[39m[\u001b[39m'\u001b[39m\u001b[39mcreate_\u001b[39m\u001b[39m'\u001b[39m \u001b[39m+\u001b[39m frmt]\n\u001b[0;32m   <a href='file:///c%3A/Python310/lib/site-packages/pydotplus/graphviz.py?line=1799'>1800</a>\u001b[0m     f\u001b[39m.\u001b[39m\u001b[39m__doc__\u001b[39m \u001b[39m=\u001b[39m (\n\u001b[0;32m   <a href='file:///c%3A/Python310/lib/site-packages/pydotplus/graphviz.py?line=1800'>1801</a>\u001b[0m         \u001b[39m'''Refer to the docstring accompanying the'''\u001b[39;00m\n\u001b[0;32m   <a href='file:///c%3A/Python310/lib/site-packages/pydotplus/graphviz.py?line=1801'>1802</a>\u001b[0m         \u001b[39m''''create' method for more information.'''\u001b[39;00m\n\u001b[0;32m   <a href='file:///c%3A/Python310/lib/site-packages/pydotplus/graphviz.py?line=1802'>1803</a>\u001b[0m     )\n",
      "File \u001b[1;32mc:\\Python310\\lib\\site-packages\\pydotplus\\graphviz.py:1959\u001b[0m, in \u001b[0;36mDot.create\u001b[1;34m(self, prog, format)\u001b[0m\n\u001b[0;32m   <a href='file:///c%3A/Python310/lib/site-packages/pydotplus/graphviz.py?line=1956'>1957</a>\u001b[0m     \u001b[39mself\u001b[39m\u001b[39m.\u001b[39mprogs \u001b[39m=\u001b[39m find_graphviz()\n\u001b[0;32m   <a href='file:///c%3A/Python310/lib/site-packages/pydotplus/graphviz.py?line=1957'>1958</a>\u001b[0m     \u001b[39mif\u001b[39;00m \u001b[39mself\u001b[39m\u001b[39m.\u001b[39mprogs \u001b[39mis\u001b[39;00m \u001b[39mNone\u001b[39;00m:\n\u001b[1;32m-> <a href='file:///c%3A/Python310/lib/site-packages/pydotplus/graphviz.py?line=1958'>1959</a>\u001b[0m         \u001b[39mraise\u001b[39;00m InvocationException(\n\u001b[0;32m   <a href='file:///c%3A/Python310/lib/site-packages/pydotplus/graphviz.py?line=1959'>1960</a>\u001b[0m             \u001b[39m'\u001b[39m\u001b[39mGraphViz\u001b[39m\u001b[39m\\'\u001b[39;00m\u001b[39ms executables not found\u001b[39m\u001b[39m'\u001b[39m)\n\u001b[0;32m   <a href='file:///c%3A/Python310/lib/site-packages/pydotplus/graphviz.py?line=1961'>1962</a>\u001b[0m \u001b[39mif\u001b[39;00m prog \u001b[39mnot\u001b[39;00m \u001b[39min\u001b[39;00m \u001b[39mself\u001b[39m\u001b[39m.\u001b[39mprogs:\n\u001b[0;32m   <a href='file:///c%3A/Python310/lib/site-packages/pydotplus/graphviz.py?line=1962'>1963</a>\u001b[0m     \u001b[39mraise\u001b[39;00m InvocationException(\n\u001b[0;32m   <a href='file:///c%3A/Python310/lib/site-packages/pydotplus/graphviz.py?line=1963'>1964</a>\u001b[0m         \u001b[39m'\u001b[39m\u001b[39mGraphViz\u001b[39m\u001b[39m\\'\u001b[39;00m\u001b[39ms executable \u001b[39m\u001b[39m\"\u001b[39m\u001b[39m%s\u001b[39;00m\u001b[39m\"\u001b[39m\u001b[39m not found\u001b[39m\u001b[39m'\u001b[39m \u001b[39m%\u001b[39m prog)\n",
      "\u001b[1;31mInvocationException\u001b[0m: GraphViz's executables not found"
     ]
    }
   ],
   "source": [
    "# se obtiene la representación en formato 'dot' del árbol de decisión\n",
    "dot_data = export_graphviz(decision_tree=sys, feature_names=X.columns, filled=True)\n",
    "#print(\"Si no tienes GraphViz instalado, para visualizar el árbol copia y pega lo siguiente en: https://dreampuf.github.io/GraphvizOnline/\")\n",
    "#print(dot_data)\n",
    "\n",
    "# se transforma la representación de árbol en formato 'dot' a formato gráfico\n",
    "graph = pydotplus.graph_from_dot_data(dot_data)\n",
    "\n",
    "# lo visualizamos\n",
    "Image(graph.create_png())"
   ]
  },
  {
   "cell_type": "markdown",
   "metadata": {},
   "source": [
    "El árbol generado es inmenso. Puedes probar a limitarlo de alguna manera.\n",
    "\n",
    "## 24.3 Máquinas de vectores soporte\n",
    "\n",
    "Las Máquinas de Vectores Soporte (SVM) para regresión siguen una filosofía similar a las de clasificación.\n",
    "\n",
    "Los problemas de regresión son un poco más complicados puesto que acertar exactamente un valor continuo es casi imposible. Por esta razón se incorpora un nuevo hiperparámetro la ecuación, $\\epsilon$ (`epsilon`), que servirá para indicar la tolerancia que tendremos respecto a los fallos. Si el valor predicho para un ejemplo $x_i$ es $\\hat{y}_i$:\n",
    "- se considerará que el error cometido es 0 si $(y_i-\\epsilon) \\le \\hat{y}_i \\le (y_i+\\epsilon)$\n",
    "- en cualquier otro caso, el error será la diferencia con el borde más cercano\n",
    "\n",
    "De esta forma se calculan los errores que comete el sistema, que tendrán mayor o menor importancia durante el aprendizaje en función del hiperparámtero `C`, que ya habíamos visto que actúa como equilibrio entre el sumatorio de los errores y la norma de $w$, los parámetros que se aprenden.\n",
    "\n",
    "En `sklearn` disponemos de `SVR` como implementación de las SVM de regresión. Esta implementación cuenta también con la posibilidad de utilizar diferentes kernels, siendo los más utilizados `'linear'`, `'poly'` (al que debemos indicarle el `degree`) y `'rbf'` (que se verá afectado por la `gamma` indicada).\n",
    "\n",
    "Podéis encontrar más información en: https://scikit-learn.org/stable/modules/generated/sklearn.svm.SVR.html\n",
    "\n",
    "Veamos un ejemplo de uso:"
   ]
  },
  {
   "cell_type": "code",
   "execution_count": 5,
   "metadata": {},
   "outputs": [
    {
     "name": "stdout",
     "output_type": "stream",
     "text": [
      "MAE = 2.650\n",
      "MSE = 16.298\n",
      "R2 = 0.841\n"
     ]
    }
   ],
   "source": [
    "# se crea una SVM\n",
    "sys = SVR(kernel='rbf', epsilon=0.01, C=100000)\n",
    "\n",
    "# se entrena y se evalúa\n",
    "sys.fit(X_train, y_train)\n",
    "y_pred = sys.predict(X_test)\n",
    "\n",
    "# se calculan las métricas\n",
    "mae = metrics.mean_absolute_error(y_test, y_pred)\n",
    "mse = metrics.mean_squared_error(y_test, y_pred)\n",
    "r2 = metrics.r2_score(y_test, y_pred)\n",
    "print(\"MAE = %.3f\\nMSE = %.3f\\nR2 = %.3f\" % (mae, mse, r2))"
   ]
  },
  {
   "cell_type": "markdown",
   "metadata": {},
   "source": [
    "Puedes probar diferentes kernels e hiperparámetros para ver cómo afecta al rendimiento del modelo.\n",
    "\n",
    "## 24.4 Bagging\n",
    "\n",
    "Ya habíamos comentado en su momento que la idea detrás del bagging es muy sencilla: se entrenarán muchos modelos utilizando particiones del conjunto de datos ligeramente diferentes y se combinarán las salidas de todos ellos para obtener la predicción final. Al tener muchos modelos, unos se sobreajustarán en unas zonas del espacio y otros modelos lo harán en otras zonas, pero esos sobreajustes perderán fuerza en la combinación final de todos los modelos.\n",
    "\n",
    "### 24.4.1 `BaggingRegressor`\n",
    "Utilizando el algoritmo `BaggingRegressor` seremos capaces de efectuar un bagging. En `base_estimator` debemos indicarle qué sistema utilizaremos como estimador y en `n_estimators` lediremos el número de estimadores deseado. En https://scikit-learn.org/stable/modules/generated/sklearn.ensemble.BaggingRegressor.html podemos consultar otros parámetros de este algoritmo.\n",
    "\n",
    "\n",
    "### 24.4.2 Random Forest\n",
    "\n",
    "El algoritmo de bagging más popular es el Random Forest, cuya implementación es `RandomForestRegressor`. Este algoritmo utilizará como estimadores árboles de regresión y promediará la predicción de todos los estimadores utilizados para generar la predicción final.\n",
    "\n",
    "En https://scikit-learn.org/stable/modules/generated/sklearn.ensemble.RandomForestRegressor.html se pueden encontrar más detalles de su uso que en gran medida son los mismos detalles presentes en `RandomForestClassifier`.\n",
    "\n",
    "También podemos obtener la relevancia de los atributos consultando el atributo `feature_importances_` después de haber entrenado.\n",
    "\n",
    "Vamos a probarlo:"
   ]
  },
  {
   "cell_type": "code",
   "execution_count": 6,
   "metadata": {},
   "outputs": [
    {
     "name": "stdout",
     "output_type": "stream",
     "text": [
      "MAE = 2.035\n",
      "MSE = 8.987\n",
      "R2 = 0.912\n",
      "\n",
      "##########################################\n",
      "### Relevancia con RandomForest\n",
      "##########################################\n"
     ]
    },
    {
     "data": {
      "image/png": "[encoded data removed]",
      "text/plain": [
       "<Figure size 432x288 with 1 Axes>"
      ]
     },
     "metadata": {
      "needs_background": "light"
     },
     "output_type": "display_data"
    }
   ],
   "source": [
    "# se crea un Random Forest\n",
    "sys = RandomForestRegressor(random_state=1234)\n",
    "\n",
    "# se entrena y se evalúa\n",
    "sys.fit(X_train, y_train)\n",
    "y_pred = sys.predict(X_test)\n",
    "\n",
    "# se calculan las métricas\n",
    "mae = metrics.mean_absolute_error(y_test, y_pred)\n",
    "mse = metrics.mean_squared_error(y_test, y_pred)\n",
    "r2 = metrics.r2_score(y_test, y_pred)\n",
    "print(\"MAE = %.3f\\nMSE = %.3f\\nR2 = %.3f\" % (mae, mse, r2))\n",
    "\n",
    "print('\\n##########################################')\n",
    "print('### Relevancia con RandomForest')\n",
    "print('##########################################')\n",
    "\n",
    "# obtenemos el número de atributos\n",
    "(num_ejemplos, num_atributos) = X.shape \n",
    "\n",
    "importances = sys.feature_importances_\n",
    "# ordenamos los atributos en orden descendente de importancia\n",
    "indices = np.argsort(importances)[::-1]\n",
    "# los representamos gráficamente\n",
    "plt.figure()\n",
    "plt.title(\"Relevancia de los atributos RandomForest\") \n",
    "# [::-1] para que aparezcan en orden decreciente en la gráfica\n",
    "plt.barh(range(num_atributos), importances[indices[::-1]], tick_label=X.columns[indices[::-1]]) \n",
    "plt.show()"
   ]
  },
  {
   "cell_type": "markdown",
   "metadata": {},
   "source": [
    "\n",
    "## 24.5 Boosting\n",
    "En el boosting se utilizan modelos muy simples que se combinan para dar lugar a un modelo fuerte. Como modelos débiles, es muy común utilizar árboles de decisión con `max_depth=1`.\n",
    "\n",
    "En boosting se utilizan todos los ejemplos disponibles para entrenar (no como en bagging donde se hacían muestreos con reemplazamiento). La particularidad que tiene el boosting es que tras entrenar el primer modelo se utilizará el mismo para realizar una predicción para los ejemplos del conjunto de entrenamiento. Como es un modelo débil (muy limitado) en algunos ejemplos cometerá poco error (o ninguno) y en otros cometerá más error, así que se asignarán pesos a los ejemplos en función del error. Se entrenará un nuevo modelo que se utilizará para volver a realizar predicciones y que dará lugar a una nueva asignación de pesos. Este proceso se repetirá las veces que queramos.\n",
    "\n",
    "### 24.5.1 Ada Boost\n",
    "Para trabajar con problema de regresión podemos utilizar el `AdaBoostRegressor`: https://scikit-learn.org/stable/modules/generated/sklearn.ensemble.AdaBoostRegressor.html\n",
    "\n",
    "Sus hiperparámetros más importantes son los mismos que ya vimos en su versión como clasificador:\n",
    "- `base_estimator`, el algoritmo base que utilizaremos (que por defecto es un árbol de decisión con profundidad 1)\n",
    "- `n_estimators`, número de modelos que se entrenarán\n",
    "- `learning_rate`, valor en el rango (0, inf) que sirve para con cuánta intensidad intentará de corregir cada árbol los errores de los árboles anteriores. Valores pequeños harán que los pesos sean menos agresivos.\n",
    "\n",
    "También podemos obtener la relevancia de los atributos consultando el atributo `feature_importances_` después de haber entrenado.\n",
    "\n",
    "Vamos a probarlo:"
   ]
  },
  {
   "cell_type": "code",
   "execution_count": 7,
   "metadata": {},
   "outputs": [
    {
     "name": "stdout",
     "output_type": "stream",
     "text": [
      "MAE = 2.766\n",
      "MSE = 13.675\n",
      "R2 = 0.867\n",
      "\n",
      "##########################################\n",
      "### Relevancia con AdaBoost\n",
      "##########################################\n"
     ]
    },
    {
     "data": {
      "image/png": "[encoded data removed]",
      "text/plain": [
       "<Figure size 432x288 with 1 Axes>"
      ]
     },
     "metadata": {
      "needs_background": "light"
     },
     "output_type": "display_data"
    }
   ],
   "source": [
    "# se crea un AdaBoostRegressor\n",
    "sys = AdaBoostRegressor(random_state=1234)\n",
    "\n",
    "# se entrena y se evalúa\n",
    "sys.fit(X_train, y_train)\n",
    "y_pred = sys.predict(X_test)\n",
    "\n",
    "# se calculan las métricas\n",
    "mae = metrics.mean_absolute_error(y_test, y_pred)\n",
    "mse = metrics.mean_squared_error(y_test, y_pred)\n",
    "r2 = metrics.r2_score(y_test, y_pred)\n",
    "print(\"MAE = %.3f\\nMSE = %.3f\\nR2 = %.3f\" % (mae, mse, r2))\n",
    "\n",
    "print('\\n##########################################')\n",
    "print('### Relevancia con AdaBoost')\n",
    "print('##########################################')\n",
    "\n",
    "importances = sys.feature_importances_\n",
    "# ordenamos los atributos en orden descendente de importancia\n",
    "indices = np.argsort(importances)[::-1]\n",
    "# los representamos gráficamente\n",
    "plt.figure()\n",
    "plt.title(\"Relevancia de los atributos AdaBoost\") \n",
    "# [::-1] para que aparezcan en orden decreciente en la gráfica\n",
    "plt.barh(range(num_atributos), importances[indices[::-1]], tick_label=X.columns[indices[::-1]]) \n",
    "plt.show()"
   ]
  },
  {
   "cell_type": "markdown",
   "metadata": {},
   "source": [
    "\n",
    "### 24.5.2 XGBoost\n",
    "\n",
    "El popular algoritmo de boosting XGBoost también puede ser utilizado en tareas de regresión utilizando la implementación `XGBRegressor` de su API para `sklearn` contenida en la librería `xgboost`.\n",
    "\n",
    "Podéis consultar sus hiperparámetros en https://xgboost.readthedocs.io/en/latest/python/python_api.html#module-xgboost.sklearn\n",
    "\n",
    "Veamos cuál es su rendimiento en este conjunto de datos:"
   ]
  },
  {
   "cell_type": "code",
   "execution_count": 8,
   "metadata": {},
   "outputs": [
    {
     "name": "stdout",
     "output_type": "stream",
     "text": [
      "MAE = 1.994\n",
      "MSE = 9.117\n",
      "R2 = 0.911\n"
     ]
    }
   ],
   "source": [
    "# se crea un XGBRegressor\n",
    "sys = XGBRegressor()\n",
    "\n",
    "# se entrena y se evalúa\n",
    "sys.fit(X_train, y_train)\n",
    "y_pred = sys.predict(X_test)\n",
    "\n",
    "# se calculan las métricas\n",
    "mae = metrics.mean_absolute_error(y_test, y_pred)\n",
    "mse = metrics.mean_squared_error(y_test, y_pred)\n",
    "r2 = metrics.r2_score(y_test, y_pred)\n",
    "print(\"MAE = %.3f\\nMSE = %.3f\\nR2 = %.3f\" % (mae, mse, r2))"
   ]
  },
  {
   "cell_type": "markdown",
   "metadata": {},
   "source": [
    "Este algoritmo de boosting suele obtener buenos resultados."
   ]
  },
  {
   "cell_type": "markdown",
   "metadata": {},
   "source": [
    "## Ejercicios\n",
    "\n",
    "1. Carga los datos del fichero **airfoil_self_noise.data**. \n",
    "2. Separa el conjunto de datos para hacer un hold out 80-20.\n",
    "3. Evalúa el rendimiento de varios algoritmos de los comentados en esta sesión.\n",
    "4. Muestra, en forma de tabla, los resultados de las métricas explicadas en el notebook.\n",
    "\n",
    "Estos ejercicios no es necesario entregarlos."
   ]
  }
 ],
 "metadata": {
  "interpreter": {
   "hash": "369f2c481f4da34e4445cda3fffd2e751bd1c4d706f27375911949ba6bb62e1c"
  },
  "kernelspec": {
   "display_name": "Python 3.10.4 64-bit",
   "language": "python",
   "name": "python3"
  },
  "language_info": {
   "codemirror_mode": {
    "name": "ipython",
    "version": 3
   },
   "file_extension": ".py",
   "mimetype": "text/x-python",
   "name": "python",
   "nbconvert_exporter": "python",
   "pygments_lexer": "ipython3",
   "version": "3.10.4"
  },
  "orig_nbformat": 4,
  "vscode": {
   "interpreter": {
    "hash": "64f5837e16e2c9074d8bf8acfd45df7ca64748c9ff033f1607453426c7868d4d"
   }
  }
 },
 "nbformat": 4,
 "nbformat_minor": 2
}
