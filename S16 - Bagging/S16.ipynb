{
 "cells": [
  {
   "cell_type": "markdown",
   "metadata": {},
   "source": [
    "![Logo de AA1](logo_AA1_texto_small.png) \n",
    "# Sesión 16 - Bagging\n",
    "\n",
    "Los *ensembles* (https://en.wikipedia.org/wiki/Ensemble_learning) son métodos que utilizan varios modelos para obtener un modelo más poderoso.\n",
    "\n",
    "Son muchos los métodos existentes para combinar modelos, pero hay dos que han destacado por su buen rendimiento:\n",
    "- Bagging y\n",
    "- Boosting\n",
    "\n",
    "En esta sesión nos centraremos en el **Bagging** y en la próxima sesión en el Boosting.\n",
    "\n",
    "Ya hemos comentado en sesiones pasadas que uno de los problemas a los que debemos enfrentarnos es la posibilidad de que nuestros modelos se sobreajusten. Una forma de abordar este problema es mediante el bagging.\n",
    "\n",
    "La idea detrás del bagging es muy sencilla: se entrenarán muchos clasificadores utilizando particiones del conjunto de datos ligeramente diferentes y se combinarán las salidas de todos ellos para obtener la predicción final. Al tener muchos modelos, unos se sobreajustarán en unas zonas del espacio y otros modelos lo harán en otras zonas, pero esos sobreajustes perderán fuerza en la combinación final de todos los modelos. Por tanto, **el bagging busca reducir la varianza**.\n",
    "\n",
    "Vamos a cargar un conjunto de datos para poder ir haciendo pruebas."
   ]
  },
  {
   "cell_type": "code",
   "execution_count": 1,
   "metadata": {},
   "outputs": [
    {
     "name": "stdout",
     "output_type": "stream",
     "text": [
      "\n",
      "##########################################\n",
      "### cargar el conjunto y separar X e y\n",
      "##########################################\n",
      "\n",
      "##########################################\n",
      "### Hold-out 70-30\n",
      "##########################################\n"
     ]
    }
   ],
   "source": [
    "import pandas as pd\n",
    "import numpy as np\n",
    "from sklearn import metrics\n",
    "from sklearn.linear_model import LogisticRegression\n",
    "from sklearn.tree import DecisionTreeClassifier\n",
    "from sklearn.model_selection import train_test_split\n",
    "import matplotlib.pyplot as plt\n",
    "from sklearn.pipeline import Pipeline\n",
    "from sklearn.preprocessing import StandardScaler\n",
    "from sklearn.ensemble import RandomForestClassifier, BaggingClassifier\n",
    "\n",
    "print('\\n##########################################')\n",
    "print('### cargar el conjunto y separar X e y')\n",
    "print('##########################################')\n",
    "\n",
    "# se llama a la función read_csv\n",
    "# no tiene missing y las columnas están separadas por ','. Tiene cabecera\n",
    "df = pd.read_csv('heart_failure_clinical_records_dataset.csv', header=0)\n",
    "filas, columnas = df.shape\n",
    "\n",
    "# la clase está en la última columna \n",
    "# separamos los atributos y los almacenamos en X\n",
    "X = df.iloc[:,0:(columnas-1)]\n",
    "\n",
    "# separamos la clase y la almacenamos en Y\n",
    "y = df.iloc[:,(columnas-1)]\n",
    "\n",
    "print('\\n##########################################')\n",
    "print('### Hold-out 70-30')\n",
    "print('##########################################')\n",
    "X_train, X_test, y_train, y_test = train_test_split(X, y, test_size=0.3, random_state=1234, stratify=y)"
   ]
  },
  {
   "cell_type": "markdown",
   "metadata": {},
   "source": [
    "# 16.1 `BaggingClassifier`\n",
    " \n",
    "Para aplicar bagging es necesario crear varios conjuntos de entrenamiento diferentes. Como solo tenemos un conjunto de entrenamiento, la manera de crear varios conjuntos será mediante un muestreo con reemplazamiento (Bootstrap AGGregatING, de ahí el nombre de Bagging).\n",
    "\n",
    "Si tenemos 100 ejemplos y, a partir de esos ejemplos, creamos 10 conjuntos de 100 ejemplos aplicando muestreo con reemplazamiento, tendremos que en cada conjunto habrá ejemplos repetidos y, además, en algunos de los conjuntos no aparecerá alguno de los ejemplos originales. Por tanto, estos conjuntos serán bastante similares, pero tendrán ciertas diferencias.\n",
    "\n",
    "Con cada uno de esos conjuntos se entrenará un modelo utilizando el algoritmo que nos interese (por ejemplo la regresión logística). Para aumentar las diferencias entre estos modelos podemos también hacer que cada modelo, en lugar de utilizar todos los atributos del conjunto, utilice un subconjunto de los mismos.\n",
    "\n",
    "Así que estamos entrenando cada modelo con un conjunto de ejemplos en el que faltarán algunos de los ejemplos y otros estarán repetidos y, además, les estaremos ocultando algunos de los atributos. Por estas razones, estos modelos están en cierta manera debilitados.\n",
    "\n",
    "Es importante destacar que cada entrenamiento es independiente de los demás y, por tanto, **utilizando bagging se pueden realizar todos los entrenamientos de los modelos en paralelo.**\n",
    "\n",
    "Para clasificar un ejemplo se obtendrán las predicciones de todos los modelos y se combinarán para obtener la predicción final. Si los modelos se han generado utilizando un algoritmo que pueda producir probabilidades, entonces se promediarán las probabilidades obtenidas por cada clase y la que obtenga el mayor valor será la clase predicha. Si el algoritmo base no tiene `predict_proba()` entonces se recurrirá a una simple votación.\n",
    "\n",
    "Veamos al `BaggingClassifier` en funcionamiento:"
   ]
  },
  {
   "cell_type": "code",
   "execution_count": 2,
   "metadata": {},
   "outputs": [
    {
     "name": "stdout",
     "output_type": "stream",
     "text": [
      "Reglog     -      Accuracy: 0.8222\n",
      "Bagging(RegLog) - Accuracy: 0.8333\n"
     ]
    }
   ],
   "source": [
    "# regresión logística\n",
    "std_lr = Pipeline([('std', StandardScaler()), ('lr', LogisticRegression())])\n",
    "std_lr.fit(X_train, y_train) \n",
    "y_pred = std_lr.predict(X_test)\n",
    "print(\"Reglog     -      Accuracy: %.4f\" % metrics.accuracy_score(y_test, y_pred))\n",
    "\n",
    "# bagging con regresión logística\n",
    "sys_bag_rl = BaggingClassifier(base_estimator=std_lr, random_state=1234, n_jobs=-1)\n",
    "sys_bag_rl.fit(X_train, y_train) \n",
    "y_pred = sys_bag_rl.predict(X_test)\n",
    "print(\"Bagging(RegLog) - Accuracy: %.4f\" % metrics.accuracy_score(y_test, y_pred))"
   ]
  },
  {
   "cell_type": "markdown",
   "metadata": {},
   "source": [
    "Hemos ejecutado ambos algoritmos con sus hiperparámetros por defecto y vemos que el bagging ya obtiene un mejor resultado.\n",
    "\n",
    "Hay varios hiperparámetros sobre los que se puede actuar, pudiendo destacarse:\n",
    "- `base_estimator`, el algoritmo base que utilizaremos\n",
    "- `n_estimators`, número de modelos que se entrenarán\n",
    "- `max_samples`, ratio o número de ejemplos que tendrá cada cada muestra del conjunto de entrenamiento\n",
    "- `max_features`, ratio o número de atributos que se utilizarán en cada muestra del conjunto de entrenamiento\n",
    "\n",
    "https://scikit-learn.org/stable/modules/generated/sklearn.ensemble.BaggingClassifier.html\n",
    "\n",
    "Vamos a ver cómo afecta el número máximo de atributos que se permite utilziar a cada modelo:"
   ]
  },
  {
   "cell_type": "code",
   "execution_count": 3,
   "metadata": {},
   "outputs": [
    {
     "data": {
      "image/png": "[encoded data removed]",
      "text/plain": [
       "<Figure size 432x288 with 1 Axes>"
      ]
     },
     "metadata": {
      "needs_background": "light"
     },
     "output_type": "display_data"
    }
   ],
   "source": [
    "# obtenemos el número de atributos\n",
    "(num_ejemplos, num_atributos) = X.shape \n",
    "\n",
    "# almacenamos todos los resultados en un vector\n",
    "scores = np.zeros(num_atributos, dtype=np.float32)\n",
    "\n",
    "for mf in range(1,num_atributos+1):\n",
    "    sys_bag_rl.set_params(max_features=mf)   # cambiamos el número máximo de atributos\n",
    "    sys_bag_rl.fit(X_train, y_train)         # entrenamos\n",
    "    y_pred = sys_bag_rl.predict(X_test)      # evaluamos\n",
    "    scores[mf-1] = metrics.accuracy_score(y_test, y_pred)\n",
    "\n",
    "fig, ax = plt.subplots()\n",
    "ax.plot(range(1,num_atributos+1), scores)\n",
    "ax.set_title('Accuracy vs. max_features')\n",
    "ax.set_xlabel('max_features')\n",
    "ax.set_ylabel('Accuracy')\n",
    "plt.show()"
   ]
  },
  {
   "cell_type": "markdown",
   "metadata": {},
   "source": [
    "Como vemos, es un hiperparámetro muy sensible que se debería optimizar.\n",
    "\n",
    "# 16.1 RandomForest\n",
    "\n",
    "Vimos en sesiones anteriores que los árboles de decisión extienden sus ramas lo necesario para tratar de clasificar correctamente todos los ejemplos de entrenamiento y esto, en ocasiones, les lleva al sobreajuste. \n",
    "\n",
    "`RandomForest` es un algoritmo que realiza bagging utilizando árboles de decisión. Suele ofrecer muy buen rendimiento y por eso es ampliamente utilizado.\n",
    "\n",
    "Veamos su rendimiento en este mismo conjunto de datos:"
   ]
  },
  {
   "cell_type": "code",
   "execution_count": 4,
   "metadata": {},
   "outputs": [
    {
     "name": "stdout",
     "output_type": "stream",
     "text": [
      "Árbol de decisión - Accuracy: 0.7667\n",
      "RandomForest   -    Accuracy: 0.8667\n"
     ]
    }
   ],
   "source": [
    "# árbol de decisión\n",
    "sys_dt = DecisionTreeClassifier(random_state=1234)\n",
    "sys_dt.fit(X_train, y_train) \n",
    "y_pred = sys_dt.predict(X_test)\n",
    "print(\"Árbol de decisión - Accuracy: %.4f\" % metrics.accuracy_score(y_test, y_pred))\n",
    "\n",
    "# random forest\n",
    "sys_rf = RandomForestClassifier(random_state=1234, n_jobs=-1)\n",
    "sys_rf.fit(X_train, y_train) \n",
    "y_pred = sys_rf.predict(X_test)\n",
    "print(\"RandomForest   -    Accuracy: %.4f\" % metrics.accuracy_score(y_test, y_pred))"
   ]
  },
  {
   "cell_type": "markdown",
   "metadata": {},
   "source": [
    "Hemos utilizado los hiperparámetros por defecto de la clase `RandomForestClassifier` y vemos que los resultados han mejorado bastante.\n",
    "\n",
    "https://scikit-learn.org/stable/modules/generated/sklearn.ensemble.RandomForestClassifier.html?highlight=randomforestclassifier#sklearn.ensemble.RandomForestClassifier \n",
    "\n",
    "En la documentación podemos ver que hay hiperparámetros muy relacionados con los árboles de decisión, por ejemplo, utilizando `max_depth` podemos limitar la profundidad de los árboles que se aprenden, debilitando aún más los clasificadores débiles.\n",
    "\n",
    "# 16.1.1 Relevancia de los atributos\n",
    "\n",
    "Una de las razones por las que gustan mucho los árboles de decisión es por su capacidad para explicar su modelo a través de un árbol comprensible por los humanos y eso es algo que no se puede tener utilizando random forest. La razón es que ya no tenemos un solo árbol, sino que tenemos decenas o cientos de árboles.\n",
    "\n",
    "Sin embargo, sí que podemos obtener una medida de la relevancia de los atributos en función de su intervención en los árboles. Esa información podemos obtenerla consultando el atributo `feature_importances_` despues de entrenar el algoritmo.\n",
    "\n",
    "Vamos a representar esas relevancias en un gráfico:"
   ]
  },
  {
   "cell_type": "code",
   "execution_count": 5,
   "metadata": {},
   "outputs": [
    {
     "data": {
      "image/png": "[encoded data removed]",
      "text/plain": [
       "<Figure size 1152x864 with 1 Axes>"
      ]
     },
     "metadata": {
      "needs_background": "light"
     },
     "output_type": "display_data"
    }
   ],
   "source": [
    "importances = sys_rf.feature_importances_\n",
    "\n",
    "# ordenamos los atributos en orden descendente de importancia\n",
    "indices = np.argsort(importances)[::-1]\n",
    "\n",
    "# los representamos gráficamente\n",
    "fig, ax = plt.subplots()\n",
    "fig.set_size_inches((16,12))\n",
    "ax.set_title(\"Relevancia de los atributos\") \n",
    "# [::-1] para que aparezcan en orden decreciente en la gráfica\n",
    "ax.barh(range(num_atributos), importances[indices[::-1]], tick_label=X.columns[indices[::-1]]) \n",
    "plt.show()\n"
   ]
  },
  {
   "cell_type": "markdown",
   "metadata": {},
   "source": [
    "Vemos que en este problema hay un atributo que destaca por su alta relevancia y 5 atributos muy poco relevantes.\n",
    "\n",
    "Las relevancias están normalizadas de tal manera que la suma de todas ellas es 1."
   ]
  },
  {
   "cell_type": "markdown",
   "metadata": {},
   "source": [
    "## Ejercicios\n",
    "\n",
    "1. Carga el fichero **biodeg.data** (es un archivo de texto). \n",
    "2. Separa el conjunto en un 70% para entrenar y un 30% para test\n",
    "3. Obten resultados utilizando Regresión Logística, árboles de decisión y utilizando bagging\n",
    "4. Representa la relevancia de los atributos\n",
    "5. Repite lo mismo con el conjunto **ionosphere.data**\n",
    "\n",
    "Estos ejercicios no es necesario entregarlos."
   ]
  }
 ],
 "metadata": {
  "interpreter": {
   "hash": "369f2c481f4da34e4445cda3fffd2e751bd1c4d706f27375911949ba6bb62e1c"
  },
  "kernelspec": {
   "display_name": "Python 3.10.4 64-bit",
   "language": "python",
   "name": "python3"
  },
  "language_info": {
   "codemirror_mode": {
    "name": "ipython",
    "version": 3
   },
   "file_extension": ".py",
   "mimetype": "text/x-python",
   "name": "python",
   "nbconvert_exporter": "python",
   "pygments_lexer": "ipython3",
   "version": "3.10.4"
  },
  "orig_nbformat": 4,
  "vscode": {
   "interpreter": {
    "hash": "aee8b7b246df8f9039afb4144a1f6fd8d2ca17a180786b69acc140d282b71a49"
   }
  }
 },
 "nbformat": 4,
 "nbformat_minor": 2
}
